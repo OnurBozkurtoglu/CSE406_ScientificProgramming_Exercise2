{
 "cells": [
  {
   "cell_type": "markdown",
   "id": "64cc5cab",
   "metadata": {},
   "source": [
    "<h1> Exercise 2</h1>\n",
    "<p>Onur Bozkurtoğlu</p>\n",
    "<p>20170808044</p>\n",
    "<h2>4    Lists</h2>\n",
    "<h3>Exercise 4.1: Short Questions</h3>\n",
    "<h4>(a) Write a function that prints the elements of a list</h4>"
   ]
  },
  {
   "cell_type": "code",
   "execution_count": 11,
   "id": "931272e5",
   "metadata": {},
   "outputs": [
    {
     "name": "stdout",
     "output_type": "stream",
     "text": [
      "['Onur', 'Berkcan', 'Efe']\n"
     ]
    }
   ],
   "source": [
    "my_list = [\"Onur\", \"Berkcan\", \"Efe\"]\n",
    "def print_elements_of_list(list):\n",
    "    print(list)\n",
    "print_elements_of_list(my_list)"
   ]
  },
  {
   "cell_type": "markdown",
   "id": "f061f69a",
   "metadata": {},
   "source": [
    "<h4>(b) Write a function that prints the elements of a list in reverse</h4>"
   ]
  },
  {
   "cell_type": "code",
   "execution_count": 15,
   "id": "cc580ad2",
   "metadata": {},
   "outputs": [
    {
     "name": "stdout",
     "output_type": "stream",
     "text": [
      "['Efe', 'Berkcan', 'Onur']\n"
     ]
    }
   ],
   "source": [
    "def print_elements_of_list_in_reverse_order(list):\n",
    "    list.reverse()\n",
    "    print(list)\n",
    "print_elements_of_list_in_reverse_order(my_list)"
   ]
  },
  {
   "cell_type": "markdown",
   "id": "0a24b172",
   "metadata": {},
   "source": [
    "<h4>(c) Write your own implementation of the len function that returns the number of elements in a list.</h4>"
   ]
  },
  {
   "cell_type": "code",
   "execution_count": 21,
   "id": "2e7795ca",
   "metadata": {},
   "outputs": [
    {
     "name": "stdout",
     "output_type": "stream",
     "text": [
      "3\n"
     ]
    }
   ],
   "source": [
    "def len(list):\n",
    "    count = 0\n",
    "    for x in list:\n",
    "        count = count + 1;\n",
    "    print(count)\n",
    "len(my_list)\n",
    "    "
   ]
  },
  {
   "cell_type": "markdown",
   "id": "ca7a194a",
   "metadata": {},
   "source": [
    "<h3>Exercise 4.2: Copying lists</h3>\n",
    "<h4>(a) Create a list a with some entries.</h4>"
   ]
  },
  {
   "cell_type": "code",
   "execution_count": 24,
   "id": "532ead2b",
   "metadata": {},
   "outputs": [],
   "source": [
    "a = [1, 2, 3, 4, 5]"
   ]
  },
  {
   "cell_type": "markdown",
   "id": "3105b19a",
   "metadata": {},
   "source": [
    "<h4>(b) Now set b = a</h4>"
   ]
  },
  {
   "cell_type": "code",
   "execution_count": 25,
   "id": "bc9c4ca3",
   "metadata": {},
   "outputs": [],
   "source": [
    "b = a"
   ]
  },
  {
   "cell_type": "markdown",
   "id": "def16482",
   "metadata": {},
   "source": [
    "<h4>(c) Change b[1]</h4>"
   ]
  },
  {
   "cell_type": "code",
   "execution_count": 28,
   "id": "c44f7de8",
   "metadata": {},
   "outputs": [],
   "source": [
    "b[1] = 6"
   ]
  },
  {
   "cell_type": "markdown",
   "id": "d2accd3d",
   "metadata": {},
   "source": [
    "<h4>(d) What happened to a?</h4>\n",
    "\n",
    "<b>Answer: </b> When we changed the value of element of list b at index 1, also the value of list a at index 1 changed."
   ]
  },
  {
   "cell_type": "code",
   "execution_count": 29,
   "id": "9436e5c0",
   "metadata": {},
   "outputs": [
    {
     "name": "stdout",
     "output_type": "stream",
     "text": [
      "[1, 6, 3, 4, 5]\n",
      "[1, 6, 3, 4, 5]\n"
     ]
    }
   ],
   "source": [
    "print(a)\n",
    "print(b)"
   ]
  },
  {
   "cell_type": "markdown",
   "id": "f85de8aa",
   "metadata": {},
   "source": [
    "<h4>(e) Now set c = a[:]</h4>"
   ]
  },
  {
   "cell_type": "code",
   "execution_count": 32,
   "id": "75fbe84a",
   "metadata": {
    "scrolled": true
   },
   "outputs": [],
   "source": [
    "c = a[:]"
   ]
  },
  {
   "cell_type": "markdown",
   "id": "03c6c965",
   "metadata": {},
   "source": [
    "<h4>(f) Change c[2]</h4>"
   ]
  },
  {
   "cell_type": "code",
   "execution_count": 49,
   "id": "3f4657ef",
   "metadata": {},
   "outputs": [],
   "source": [
    "c[2] = \"Changed\""
   ]
  },
  {
   "cell_type": "markdown",
   "id": "6090dc32",
   "metadata": {},
   "source": [
    "<h4>(g) What happened to a?</h4>\n",
    "\n",
    "<b>Answer: </b> This time changing an value of element of list c does not affect the list a."
   ]
  },
  {
   "cell_type": "markdown",
   "id": "c6af6735",
   "metadata": {},
   "source": [
    "<h4>Now create a function set_first_elem_to_zero(l) that takes a list, sets its first entry to zero, and returns the list.</h4>\n",
    "<h4>What happens to the original list?</h4>"
   ]
  },
  {
   "cell_type": "code",
   "execution_count": 48,
   "id": "0acea4f6",
   "metadata": {},
   "outputs": [
    {
     "name": "stdout",
     "output_type": "stream",
     "text": [
      "[1, 6, 3, 4, 5]\n",
      "[0, 6, 3, 4, 5]\n"
     ]
    }
   ],
   "source": [
    "def set_first_elem_to_zero(list):\n",
    "    list[0] = 0\n",
    "    return list\n",
    "print(a)\n",
    "set_first_elem_to_zero(a)\n",
    "print(a)"
   ]
  },
  {
   "cell_type": "markdown",
   "id": "ec0d03df",
   "metadata": {},
   "source": [
    "<h3>Exercise 4.3: Lists of lists </h3>\n",
    "\n",
    "<h4>What is the difference between a and b: </h4>\n",
    "\n",
    "<h4>a = [ [] ] * 3 </h4>\n",
    "<h4>b = [ [] for _ in range(3) ] </h4>\n",
    "\n",
    "<b>Answer: </b> There is no difference between outputs of a and b. However, in list a we create a 3 list that is bound to same address, in b we create 3 different list."
   ]
  },
  {
   "cell_type": "code",
   "execution_count": 56,
   "id": "b1409387",
   "metadata": {},
   "outputs": [
    {
     "name": "stdout",
     "output_type": "stream",
     "text": [
      "[[], [], []]\n",
      "[[], [], []]\n"
     ]
    }
   ],
   "source": [
    "a = [ [] ] * 3\n",
    "print(a)\n",
    "b = [ [] for _ in range(3)]\n",
    "print(b)"
   ]
  },
  {
   "cell_type": "markdown",
   "id": "e7f957ab",
   "metadata": {},
   "source": [
    "<h3>Exercise 4.4: Lists and functions </h3>\n",
    "\n",
    "<b> Write a function that takes a list and an index, and sets the value of the list at the given index to 0. </b>"
   ]
  },
  {
   "cell_type": "code",
   "execution_count": 61,
   "id": "2506d16f",
   "metadata": {},
   "outputs": [
    {
     "name": "stdout",
     "output_type": "stream",
     "text": [
      "['Ankara', 'Bursa', 'Adana', 'Samsun']\n",
      "['Ankara', 0, 'Adana', 'Samsun']\n"
     ]
    }
   ],
   "source": [
    "test_list = [ \"Ankara\", \"Bursa\", \"Adana\", \"Samsun\" ]\n",
    "def exercise_4_4(index, list):\n",
    "    list[index] = 0\n",
    "print(test_list)\n",
    "exercise_4_4(1, test_list)\n",
    "print(test_list)"
   ]
  },
  {
   "cell_type": "markdown",
   "id": "f1ffec5f",
   "metadata": {},
   "source": [
    "<h3>Exercise 4.5: Primes </h3>\n",
    "\n",
    "<b> In Section 3 you wrote a function that prints all primes up to n, and a function that prints the first n primes. Update these functions such that they return lists instead. </b>"
   ]
  },
  {
   "cell_type": "code",
   "execution_count": 66,
   "id": "2321fea1",
   "metadata": {},
   "outputs": [
    {
     "data": {
      "text/plain": [
       "[2, 3, 5, 7, 11, 13]"
      ]
     },
     "execution_count": 66,
     "metadata": {},
     "output_type": "execute_result"
    }
   ],
   "source": [
    "# Since is_prime method in Exercise 1. I also add it below:\n",
    "def is_prime(num):\n",
    "    if num> 1:  \n",
    "        for n in range(2,num):  \n",
    "            if (num % n) == 0:  \n",
    "                return False\n",
    "        return True\n",
    "    else:\n",
    "        return False\n",
    "# Answer:\n",
    "def all_primes_up_to_n(n):\n",
    "    prime_list = []\n",
    "    for x in range(2, n + 1):\n",
    "        if is_prime(x):\n",
    "            prime_list.append(x)\n",
    "    return prime_list\n",
    "all_primes_up_to_n(14)"
   ]
  },
  {
   "cell_type": "code",
   "execution_count": 72,
   "id": "2ebaa28b",
   "metadata": {},
   "outputs": [
    {
     "data": {
      "text/plain": [
       "[2, 3, 5, 7, 11, 13, 17, 19, 23, 29]"
      ]
     },
     "execution_count": 72,
     "metadata": {},
     "output_type": "execute_result"
    }
   ],
   "source": [
    "# Answer\n",
    "def first_n_primes(n):\n",
    "    prime_list = []\n",
    "    x = 2\n",
    "    primeNums = 0\n",
    "    while primeNums < n:\n",
    "        if is_prime(x):\n",
    "            prime_list.append(x)\n",
    "            primeNums = primeNums + 1\n",
    "        x = x + 1\n",
    "    return prime_list\n",
    "first_n_primes(10)"
   ]
  },
  {
   "cell_type": "markdown",
   "id": "53bd108e",
   "metadata": {},
   "source": [
    "<h3>Exercise 4.6: List of comprehensions </h3>\n",
    "\n",
    "<b>Let i, j = 1, , , , , n</b>\n",
    "\n",
    "<b>(a) Generate a list with elements [i,j].</b>"
   ]
  },
  {
   "cell_type": "code",
   "execution_count": 41,
   "id": "554c191c",
   "metadata": {},
   "outputs": [
    {
     "name": "stdout",
     "output_type": "stream",
     "text": [
      "[[1, 1], [1, 2], [1, 3], [1, 4], [1, 5], [1, 6], [1, 7], [2, 1], [2, 2], [2, 3], [2, 4], [2, 5], [2, 6], [2, 7], [3, 1], [3, 2], [3, 3], [3, 4], [3, 5], [3, 6], [3, 7], [4, 1], [4, 2], [4, 3], [4, 4], [4, 5], [4, 6], [4, 7], [5, 1], [5, 2], [5, 3], [5, 4], [5, 5], [5, 6], [5, 7], [6, 1], [6, 2], [6, 3], [6, 4], [6, 5], [6, 6], [6, 7], [7, 1], [7, 2], [7, 3], [7, 4], [7, 5], [7, 6], [7, 7]]\n"
     ]
    }
   ],
   "source": [
    "n = 7\n",
    "my_list = [[i,j] for i in range(1,n + 1) for j in range(1, n + 1)]\n",
    "print(my_list)"
   ]
  },
  {
   "cell_type": "markdown",
   "id": "e806a1b9",
   "metadata": {},
   "source": [
    "<b> (b) Generate a list with elements [i,j] with i < j </b>"
   ]
  },
  {
   "cell_type": "code",
   "execution_count": 42,
   "id": "b4cb49ed",
   "metadata": {},
   "outputs": [
    {
     "name": "stdout",
     "output_type": "stream",
     "text": [
      "[[1, 2], [1, 3], [1, 4], [1, 5], [1, 6], [1, 7], [2, 3], [2, 4], [2, 5], [2, 6], [2, 7], [3, 4], [3, 5], [3, 6], [3, 7], [4, 5], [4, 6], [4, 7], [5, 6], [5, 7], [6, 7]]\n"
     ]
    }
   ],
   "source": [
    "n = 7\n",
    "my_list = [[i,j] for i in range(1,n + 1) for j in range(i + 1, n + 1)]\n",
    "print(my_list)"
   ]
  },
  {
   "cell_type": "markdown",
   "id": "96c0bf14",
   "metadata": {},
   "source": [
    "<b> (c) Generate a list with elements i + j with both i and j prime and i > j. </b>"
   ]
  },
  {
   "cell_type": "code",
   "execution_count": 55,
   "id": "4d04bc93",
   "metadata": {},
   "outputs": [
    {
     "name": "stdout",
     "output_type": "stream",
     "text": [
      "[5, 7, 8, 9, 10, 12]\n"
     ]
    }
   ],
   "source": [
    "n = 7\n",
    "my_list = [i + j for i in range(1,n + 1) for j in range(1, n + 1) if is_prime(i) == True and is_prime(j) and i > j]\n",
    "print(my_list)"
   ]
  },
  {
   "cell_type": "markdown",
   "id": "58058995",
   "metadata": {},
   "source": [
    "<b> (d) Write a function that evaluates an arbitrary polynomial a0 + a1x + a2x2 + : : : + anxn using a list\n",
    "comprehension, where you are given x and a list with coefficients coefs (hint: use enumerate) </b>"
   ]
  },
  {
   "cell_type": "code",
   "execution_count": 16,
   "id": "93356e48",
   "metadata": {},
   "outputs": [
    {
     "name": "stdout",
     "output_type": "stream",
     "text": [
      "43\n"
     ]
    }
   ],
   "source": [
    "\n",
    "x = 2\n",
    "coefficient_list = [3,6,7]\n",
    "# polynom = 3*x^0 + 6*x^1 + 7*x^2\n",
    "def evaluate_polynomials(value, list):\n",
    "    polynom = [ [coefficient, i]  for i in range(len(coefficient_list)) for coefficient in coefficient_list if coefficient == coefficient_list[i]]\n",
    "    result = 0\n",
    "    for x in polynom:\n",
    "        temp = x[0] * value ** x[1]\n",
    "        result = result + temp\n",
    "    print(result)\n",
    "evaluate_polynomials(x, coefficient_list)"
   ]
  },
  {
   "cell_type": "markdown",
   "id": "ad93fe00",
   "metadata": {},
   "source": [
    "<h3>Exercise 4.7: Filter </h3>"
   ]
  },
  {
   "cell_type": "markdown",
   "id": "75cca022",
   "metadata": {},
   "source": [
    "<b>In lecture we have seen how to implement map using list comprehensions. Implement filter using list\n",
    "comprehensions. Name your functions myfilter so you can compare with Python’s standard filter</b>"
   ]
  },
  {
   "cell_type": "code",
   "execution_count": null,
   "id": "641ae5d3",
   "metadata": {},
   "outputs": [],
   "source": []
  },
  {
   "cell_type": "markdown",
   "id": "61f9c63b",
   "metadata": {},
   "source": [
    "<h3>Exercise 4.8: Flatten a list of lists </h3>"
   ]
  },
  {
   "cell_type": "markdown",
   "id": "e7733a18",
   "metadata": {},
   "source": [
    "<b>Consider having a list with lists as elements, e.g. [[1,3], [3,6]].</b>\n",
    "\n",
    "<b>Write a function that takes such a list, and returns a list with as elements the elements of the sublists,\n",
    "e.g. [1, 3, 3, 6]</b>"
   ]
  },
  {
   "cell_type": "code",
   "execution_count": 96,
   "id": "6cffa2f6",
   "metadata": {},
   "outputs": [
    {
     "data": {
      "text/plain": [
       "[1, 3, 3, 6, 4, 8, 8, 12]"
      ]
     },
     "execution_count": 96,
     "metadata": {},
     "output_type": "execute_result"
    }
   ],
   "source": [
    "list_4_8 = [[1,3], [3,6], [4,8], [8,12]]\n",
    "def flatten(list):\n",
    "    result = [ j for i in list_4_8 for j in i]\n",
    "    return result\n",
    "flatten(list_4_8)"
   ]
  },
  {
   "cell_type": "markdown",
   "id": "7b6e68d9",
   "metadata": {},
   "source": [
    "<h3>Exercise 4.9: Finding the longest word </h3>"
   ]
  },
  {
   "cell_type": "markdown",
   "id": "e56dfc87",
   "metadata": {},
   "source": [
    "<b>Write a function that returns the longest word in a variable text that contains a sentence. While text\n",
    "may contain punctuation, these should not be taken into account. What happens with ties?</b>\n",
    "\n",
    "<b>As an example, consider: \"Hello, how was the football match earlier today???\"</b>"
   ]
  },
  {
   "cell_type": "code",
   "execution_count": 279,
   "id": "fa950008",
   "metadata": {},
   "outputs": [
    {
     "ename": "UnboundLocalError",
     "evalue": "local variable 'word' referenced before assignment",
     "output_type": "error",
     "traceback": [
      "\u001b[1;31m---------------------------------------------------------------------------\u001b[0m",
      "\u001b[1;31mUnboundLocalError\u001b[0m                         Traceback (most recent call last)",
      "\u001b[1;32m~\\AppData\\Local\\Temp/ipykernel_14480/439857193.py\u001b[0m in \u001b[0;36m<module>\u001b[1;34m\u001b[0m\n\u001b[0;32m     10\u001b[0m             \u001b[1;32mif\u001b[0m \u001b[0mlen\u001b[0m\u001b[1;33m(\u001b[0m\u001b[0mword\u001b[0m\u001b[1;33m)\u001b[0m \u001b[1;33m<\u001b[0m \u001b[0mlen\u001b[0m\u001b[1;33m(\u001b[0m\u001b[0mtemp\u001b[0m\u001b[1;33m)\u001b[0m\u001b[1;33m:\u001b[0m\u001b[1;33m\u001b[0m\u001b[1;33m\u001b[0m\u001b[0m\n\u001b[0;32m     11\u001b[0m                 \u001b[0mword\u001b[0m \u001b[1;33m=\u001b[0m \u001b[0mtemp\u001b[0m\u001b[1;33m\u001b[0m\u001b[1;33m\u001b[0m\u001b[0m\n\u001b[1;32m---> 12\u001b[1;33m \u001b[0mfinding_logest_word\u001b[0m\u001b[1;33m(\u001b[0m\u001b[0mlst\u001b[0m\u001b[1;33m)\u001b[0m\u001b[1;33m\u001b[0m\u001b[1;33m\u001b[0m\u001b[0m\n\u001b[0m",
      "\u001b[1;32m~\\AppData\\Local\\Temp/ipykernel_14480/439857193.py\u001b[0m in \u001b[0;36mfinding_logest_word\u001b[1;34m(lst)\u001b[0m\n\u001b[0;32m      8\u001b[0m         \u001b[1;32mfor\u001b[0m \u001b[0mk\u001b[0m \u001b[1;32min\u001b[0m \u001b[0mpunctuations\u001b[0m\u001b[1;33m:\u001b[0m\u001b[1;33m\u001b[0m\u001b[1;33m\u001b[0m\u001b[0m\n\u001b[0;32m      9\u001b[0m             \u001b[0mx\u001b[0m \u001b[1;33m=\u001b[0m \u001b[0mx\u001b[0m\u001b[1;33m.\u001b[0m\u001b[0mreplace\u001b[0m\u001b[1;33m(\u001b[0m\u001b[0mk\u001b[0m\u001b[1;33m,\u001b[0m \u001b[1;34m\"\"\u001b[0m\u001b[1;33m)\u001b[0m\u001b[1;33m\u001b[0m\u001b[1;33m\u001b[0m\u001b[0m\n\u001b[1;32m---> 10\u001b[1;33m             \u001b[1;32mif\u001b[0m \u001b[0mlen\u001b[0m\u001b[1;33m(\u001b[0m\u001b[0mword\u001b[0m\u001b[1;33m)\u001b[0m \u001b[1;33m<\u001b[0m \u001b[0mlen\u001b[0m\u001b[1;33m(\u001b[0m\u001b[0mtemp\u001b[0m\u001b[1;33m)\u001b[0m\u001b[1;33m:\u001b[0m\u001b[1;33m\u001b[0m\u001b[1;33m\u001b[0m\u001b[0m\n\u001b[0m\u001b[0;32m     11\u001b[0m                 \u001b[0mword\u001b[0m \u001b[1;33m=\u001b[0m \u001b[0mtemp\u001b[0m\u001b[1;33m\u001b[0m\u001b[1;33m\u001b[0m\u001b[0m\n\u001b[0;32m     12\u001b[0m \u001b[0mfinding_logest_word\u001b[0m\u001b[1;33m(\u001b[0m\u001b[0mlst\u001b[0m\u001b[1;33m)\u001b[0m\u001b[1;33m\u001b[0m\u001b[1;33m\u001b[0m\u001b[0m\n",
      "\u001b[1;31mUnboundLocalError\u001b[0m: local variable 'word' referenced before assignment"
     ]
    }
   ],
   "source": [
    "lst =  ['Hello,,, how was the! football..  match earlier today???']\n",
    "punctuations = ['.',',', '?','!', ':', ';', '\\'', '-', '(', ')', '{', '}', '\\\"', \"...\"]\n",
    "def finding_logest_word(lst):\n",
    "    text = [i for item in lst for i in item.split()]\n",
    "    longest_word = \"\"\n",
    "    temp = \"\"\n",
    "    for x in text:\n",
    "        for k in punctuations:\n",
    "            x = x.replace(k, \"\")\n",
    "            if len(word) < len(temp):\n",
    "                word = temp\n",
    "finding_logest_word(lst)"
   ]
  },
  {
   "cell_type": "markdown",
   "id": "ee74f00f",
   "metadata": {},
   "source": [
    "<h3>Exercise 4.10: Collatz sequence, part 2 </h3>\n",
    "\n",
    "<b> Recall the Collatz sequence problem from Section 1. Our goal is to find the number n < 1; 000; 000 that\n",
    "leads to the longest Collatz sequence. </b>\n",
    "    \n",
    "<b> (a) Write a function that for any n, returns its Collatz sequence as a list </b>"
   ]
  },
  {
   "cell_type": "code",
   "execution_count": 334,
   "id": "bd137421",
   "metadata": {},
   "outputs": [
    {
     "name": "stdout",
     "output_type": "stream",
     "text": [
      "[5, 16, 8, 4, 2, 1]\n"
     ]
    }
   ],
   "source": [
    "def collatz_sequence(n):\n",
    "    collatz_list = [n]\n",
    "    while n != 1:\n",
    "        if n % 2 == 0:\n",
    "            n = n / 2\n",
    "            collatz_list.append(int(n))\n",
    "        else:\n",
    "            n = 3 * n + 1\n",
    "            collatz_list.append(int(n))\n",
    "    print(collatz_list)\n",
    "collatz_sequence(5)\n",
    "    "
   ]
  },
  {
   "cell_type": "markdown",
   "id": "d4eff416",
   "metadata": {},
   "source": [
    "<b> (b) Write a function that finds the integer x that leads to the longest Collatz sequence with x < n. </b>"
   ]
  },
  {
   "cell_type": "markdown",
   "id": "b20de39d",
   "metadata": {},
   "source": [
    "<h3>Exercise 4.11: Pivots </h3>\n",
    "\n",
    "<b> Write a function that takes a value x and a list ys, and returns a list that contains the value x and all\n",
    "elements of ys such that all values y in ys that are smaller than x come first, then we element x and\n",
    "then the rest of the values in ys </b>\n",
    "\n",
    "<b> For example, the output of f(3, [6, 4, 1, 7]) should be [1, 3, 6, 4, 7] </b>"
   ]
  },
  {
   "cell_type": "code",
   "execution_count": 10,
   "id": "05ce04b0",
   "metadata": {},
   "outputs": [
    {
     "data": {
      "text/plain": [
       "[1, 3, 4, 6, 9]"
      ]
     },
     "execution_count": 10,
     "metadata": {},
     "output_type": "execute_result"
    }
   ],
   "source": [
    "ys = [6, 4, 1, 9]\n",
    "x = 3\n",
    "\n",
    "def pivots(x, ys):\n",
    "    ys.sort()\n",
    "    for i in ys:\n",
    "        if i > x:\n",
    "            ys.insert(ys.index(i), x)\n",
    "            break\n",
    "    return ys\n",
    "pivots(x, ys)\n",
    "    "
   ]
  },
  {
   "cell_type": "markdown",
   "id": "c053ed6e",
   "metadata": {},
   "source": [
    "<h2>5 Tuples </h2>\n",
    "\n",
    "<h3>Exercise 5.1: Swapping two values </h3>\n",
    "\n",
    "<b> Suppose you have two variables: a and b. Now you want to set a equal to the value of b and at the\n",
    "same time set b equal to the value of a. </b>\n",
    "    \n",
    "<b>The following obviously does not work</b>\n",
    "\n",
    "<b>a = b </b>\n",
    "\n",
    "<b>b = a </b>\n",
    "\n",
    "<b> so in some languages, you need to define a third variable like this </b>\n",
    "\n",
    "<b> t = a </b>\n",
    "\n",
    "<b> a = b </b>\n",
    "\n",
    "<b> b = t </b>\n",
    "\n",
    "<b> However, in Python you don’t need to do this. How can you swap a and b in one line? </b>"
   ]
  },
  {
   "cell_type": "code",
   "execution_count": 12,
   "id": "3c7e0cac",
   "metadata": {},
   "outputs": [
    {
     "name": "stdout",
     "output_type": "stream",
     "text": [
      "('a', 'b')\n",
      "('b', 'a')\n"
     ]
    }
   ],
   "source": [
    "tuple = (\"a\", \"b\")\n",
    "print(tuple)\n",
    "tuple = (\"b\", \"a\")\n",
    "print(tuple)"
   ]
  },
  {
   "cell_type": "markdown",
   "id": "03845b1b",
   "metadata": {},
   "source": [
    "<h3>Exercise 5.2: Zip</h3>\n",
    "\n",
    "<b> Suppose we have two lists, x and y that give the x and y coordinates of a set of points. Create a list\n",
    "with the coordinates (x,y) as a tuple. Hint: Find out about the zip function. </b>\n",
    "\n",
    "<b> You have decided that actually, you need the two seperate lists, but unfortunately, you have thrown\n",
    "them away. How can we use zip to unzip the list of tuples to get two lists again? </b>"
   ]
  },
  {
   "cell_type": "code",
   "execution_count": 1,
   "id": "6837ba55",
   "metadata": {},
   "outputs": [
    {
     "name": "stdout",
     "output_type": "stream",
     "text": [
      "((1, 1), (2, 2), (3, 3), (4, 4))\n"
     ]
    }
   ],
   "source": [
    "a = [1, 2, 3, 4]\n",
    "b = [1, 2, 3, 4]\n",
    "\n",
    "x = zip(a,b)\n",
    "print(tuple(x))"
   ]
  },
  {
   "cell_type": "markdown",
   "id": "afbcf0a1",
   "metadata": {},
   "source": [
    "<h3> Exercise 5.3: Distances </h3>\n",
    "\n",
    "<b> Suppose we have two vectors, x and y, stored as tuples with n elements. Implement functions that\n",
    "compute the l1 and l2 distances between x and y. Note that n is not explicitly given.</b>"
   ]
  },
  {
   "cell_type": "code",
   "execution_count": 4,
   "id": "bbe52113",
   "metadata": {},
   "outputs": [
    {
     "name": "stdout",
     "output_type": "stream",
     "text": [
      "enter values of vector of a:1,5,8\n",
      "enter values of vector of b:3,4,5\n",
      "3.741657386773941\n"
     ]
    }
   ],
   "source": [
    "from math import dist\n",
    "vector_a = input(\"enter values of vector of a:\")\n",
    "vector_b = input(\"enter values of vector of b:\")\n",
    "vector_a = tuple(int(i) for i in vector_a.split(\",\"))\n",
    "vector_b = tuple(int(i) for i in vector_b.split(\",\"))\n",
    "print(dist(vector_a,vector_b))"
   ]
  },
  {
   "cell_type": "markdown",
   "id": "0df8bbfe",
   "metadata": {},
   "source": [
    "<h2>6 Dictionaries </h2>\n",
    "\n",
    "<h3> Exercise 6.1: Printing a dictionary</h3>\n",
    "\n",
    "<b> Write a function that prints key-value pairs of a dictionary </b>"
   ]
  },
  {
   "cell_type": "code",
   "execution_count": 5,
   "id": "2b7d4da1",
   "metadata": {},
   "outputs": [
    {
     "name": "stdout",
     "output_type": "stream",
     "text": [
      "{'brand': 'Ford', 'model': 'Mustang', 'year': 1964}\n"
     ]
    }
   ],
   "source": [
    "my_disctionary = {\n",
    "  \"brand\": \"Ford\",\n",
    "  \"model\": \"Mustang\",\n",
    "  \"year\": 1964\n",
    "}\n",
    "def print_dictionary(dictionary):\n",
    "    print(my_disctionary)\n",
    "print_dictionary(my_disctionary)"
   ]
  },
  {
   "cell_type": "markdown",
   "id": "16c30b62",
   "metadata": {},
   "source": [
    "<h3> Exercise 6.2: Histogram</h3>\n",
    "\n",
    "<b> Write a function that takes a list, and returns a dictionary with keys the elements of the list and as\n",
    "value the number of occurances of that element in the list </b>\n",
    "\n",
    "<b> After you are done, look up ‘python collections counter’ in Google. Could you use a counter instead? </b>"
   ]
  },
  {
   "cell_type": "code",
   "execution_count": 9,
   "id": "df8bbf87",
   "metadata": {},
   "outputs": [
    {
     "data": {
      "text/plain": [
       "Counter({'Ford': 1, 1: 4, 'Manga': 2, 2: 6, 'Manga,': 1})"
      ]
     },
     "execution_count": 9,
     "metadata": {},
     "output_type": "execute_result"
    }
   ],
   "source": [
    "from collections import Counter\n",
    "\n",
    "histogram_list = [ \"Ford\", 1, \"Manga\", 2, \"Manga\", \"Manga,\", 1, 1, 1, 2, 2, 2, 2, 2]\n",
    "def histogram(list):\n",
    "    result = Counter(histogram_list)\n",
    "    return result\n",
    "histogram(histogram_list)\n",
    "    "
   ]
  },
  {
   "cell_type": "markdown",
   "id": "46ca7f97",
   "metadata": {},
   "source": [
    "<h3> Exercise 6.3: Get Method</h3>\n",
    "\n",
    "<b> Dictionaries have a get method, which takes a key and a default value. If the key is in the dictionary,\n",
    "it returns the value, otherwise, it returns the default value. </b>\n",
    "\n",
    "<b> Rewrite your code from the previous problem to make use of this get method. </b>"
   ]
  },
  {
   "cell_type": "code",
   "execution_count": 11,
   "id": "1b829818",
   "metadata": {},
   "outputs": [
    {
     "data": {
      "text/plain": [
       "'University'"
      ]
     },
     "execution_count": 11,
     "metadata": {},
     "output_type": "execute_result"
    }
   ],
   "source": [
    "list_get_mothod = {\"Akdeniz\" : \"University\", \"Stanforf\": \"University\" , \"Gazi\" : \"High School\"}\n",
    "list_get_mothod.get(\"Akdeniz\")\n",
    "    \n",
    "    "
   ]
  },
  {
   "cell_type": "markdown",
   "id": "b62d9d22",
   "metadata": {},
   "source": [
    "<h3> Exercise 6.6: Reverse look-up</h3>\n",
    "\n",
    "<b> Dictionaries are made to look up values by keys. Suppose however, we want to find the key that is\n",
    "associated with some value. Write a function that takes a dictionary and a value, and returns the key\n",
    "associated with this value. </b>"
   ]
  },
  {
   "cell_type": "code",
   "execution_count": 14,
   "id": "f2626888",
   "metadata": {},
   "outputs": [
    {
     "name": "stdout",
     "output_type": "stream",
     "text": [
      "java\n",
      "c\n"
     ]
    }
   ],
   "source": [
    "def get_key(val):\n",
    "    for key, value in my_dict.items():\n",
    "        if val == value:\n",
    "            return key\n",
    "    return \"key doesn't exist\"\n",
    "\n",
    "my_dict = { \"java\": 100, \"python\": 112 , \"c\": 111}\n",
    "\n",
    "print(get_key(100))\n",
    "print(get_key(111))"
   ]
  },
  {
   "cell_type": "code",
   "execution_count": null,
   "id": "1366f3f0",
   "metadata": {},
   "outputs": [],
   "source": []
  }
 ],
 "metadata": {
  "kernelspec": {
   "display_name": "Python 3 (ipykernel)",
   "language": "python",
   "name": "python3"
  },
  "language_info": {
   "codemirror_mode": {
    "name": "ipython",
    "version": 3
   },
   "file_extension": ".py",
   "mimetype": "text/x-python",
   "name": "python",
   "nbconvert_exporter": "python",
   "pygments_lexer": "ipython3",
   "version": "3.9.7"
  }
 },
 "nbformat": 4,
 "nbformat_minor": 5
}
